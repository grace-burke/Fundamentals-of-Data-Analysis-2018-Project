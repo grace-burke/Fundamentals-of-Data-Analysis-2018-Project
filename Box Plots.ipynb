{
 "cells": [
  {
   "cell_type": "markdown",
   "metadata": {},
   "source": [
    "# Box Plots"
   ]
  },
  {
   "cell_type": "markdown",
   "metadata": {},
   "source": [
    "In statistics, a box plot is a type of graph that gives an indication of the concentration of a dataset in a small amount of space.\n",
    "It shows the median, quartiles and extreme values of the data.\n",
    "The median, first quartile and third quartile are shown as a box, hence the name box plot.The first and third quartiles are known as hinges. The middle 50% of the data fall within this box.\n",
    "Lines extend vertically from the bottom and top of this box to indicate the variability or extreme values of the dataset, depending on the type of box plot. For this reason they are sometimes known as box and whisker plots. The end of these whiskers are sometimes referred to as fences.\n",
    "Outliers may be marked as dots beyond these lines.\n",
    "Box plots can tell the viewer about the dispersion (spread), skewness (asymetry of the distribution about its mean) and outliers of the dataset.\n",
    "They are useful for comparing ranges and distributions between different datasets. [1]"
   ]
  },
  {
   "cell_type": "markdown",
   "metadata": {},
   "source": [
    "## Types of Box Plots\n",
    "\n",
    "The whiskers of the box plot can be used to display different information as required. Some variations of whiskers lengths are:\n",
    "The maximum and minimum values of the dataset.\n",
    "The lowest data point still within 1.5 interquartile range of the lower quartile and the highest value still within 1.5 interquartile range of the higher quartile, known as the Tukey box plot.\n",
    "One standard deviation above and below the mean of the data.\n",
    "The 9th and 91st percentiles.\n",
    "The 2nd and 98th percentiles.\n",
    "\n",
    "The length of the box of the box plot always represents the same thing but the box can be varied in other ways:\n",
    "The width of the box may be varied proportional to the size of the dataset. This is called a variable width box plot.\n",
    "A notch may be applied to the median of the box. This is known as a notched box plot. [1]\n",
    "<img src=\"Images/Variable Width and Notched.svg\" />\n",
    "<center>Variable Width and Notched Plots [1]</center>\n"
   ]
  },
  {
   "cell_type": "markdown",
   "metadata": {},
   "source": [
    "## Terminology\n",
    "\n",
    "### Median\n",
    "- The median is a way of measuring the centre of the data.\n",
    "- If all of the elements within the dataset were arranged from smallest to largest, the median would be either the middle value, or halfway between the two middle values (their average).\n",
    "- The median does not necessarily have to be an element of the dataset.\n",
    "- Half of the values of the dataset will be below the median and half will be above.\n",
    "\n",
    "### Quartile\n",
    "- Quartiles are numbers that separate the data into quarters.\n",
    "- Quartiles are calculated similarly to the median.\n",
    "- The first quartile is the value that a quarter of the dataset is below. It is the middle of the lower half of the data.\n",
    "- The third quartile is the value that a quarter of the dataset is above. It is the middle of the upper half of the data.\n",
    "- The median is the second quartile. [2]\n",
    "\n",
    "### Percentile\n",
    "- A percentile is similar to a quartile but for any percentage value.\n",
    "- E.g. The 10th percentile is the value that 10% of the dataset is below.\n",
    "\n",
    "### Quantile\n",
    "- A quantile is a cut point which divides a dataset into subgroups of a specified proportion.\n",
    "- Medians, quartiles and percentiles are all quantiles.\n",
    "\n",
    "### Interquartile Range\n",
    "- The interquartile range is the difference between the first quartile and the third quartile.\n",
    "- This is the height of the box in a box plot.\n",
    "\n",
    "### Standard Deviation\n",
    "- The standard deviation of a dataset is the average absolute difference between its data points and its mean.\n"
   ]
  },
  {
   "cell_type": "markdown",
   "metadata": {},
   "source": [
    "## History of Box Plots\n",
    "- The first form of box plot, a range-bar, was described by Mary Eleanor Spear in 1952.\n",
    "- John Tukey introduced the box and whisker plot as a tool for exploratory data analysis in 1970. Tukey selected what he thought to be the most appropriate and useful summary statistics and intervals to display.\n",
    "<img src=\"Images/John Tukey.jpg\" />\n",
    "<center>John Tuckey [1]</center>\n",
    "- Tukey designed his box plot to show whiskers of length 1.5 times the interquartile range from the median. Values beyond this were shown as individual dots.\n",
    "- Since then, a number of people have produced different variations of the box plot, including different whisker lengths as described in the box plot types section above.\n",
    "- Some variations for whisker lengths include using maximum and minimum values, fixed quantiles, values other than 1.5 times the interquartile range, semi-interquartile ranges (e.g. median - 1st quartile) for asymetrical whiskers, or standard deviation.\n",
    "- At the time when box plots were still commonly printed, some people used a mid-gap plot to save ink. As shown below the box is removed and the median is shown with a dot.\n",
    "- Different colours were also sometimes used to allow the viewer to visualise the data more easily.\n",
    "<img src=\"Images/Mid Gap Plot.png\" />\n",
    "<center>Mid Gap Plot and Colourful Plot [3]</center>\n",
    "- In time, some statisticians attempted to improve upon the traditional box plot by adding information about density to the plot.\n",
    "    - Variable width plots were introduced to represent the total size of the dataset compared to other datasets.\n",
    "    - Vase plots varied the width of the “box” at each point relative to the density.\n",
    "    - Violin plots are similar to vase plots apart from the fact that the varying with continues into the whiskers and outliers.\n",
    "- Tukey also introduced the notched box plot, which displays confidence intervals around the medians.\n",
    "- 2-dimensional box plots are sometimes used to display the location and spread of the data.\n",
    "   - In a rangefinder box plot, a scatter plot is created of x vs. y. Then the median, quartile and whisker lines are drawn in each direction. This contains all of the information contained in a box plot for each variable.\n",
    "   - Relplots and Quelplots are more complex versions of the rangefinder box plot using shapes such as ellipses to enclose the data.\n",
    "   - Bag plots consist of a scatter plot, a “bag” enclosing the interquartile values, and a “fence” between inliers and outliers (similar to whiskers)."
   ]
  },
  {
   "cell_type": "markdown",
   "metadata": {},
   "source": [
    "## Sample Data Set\n",
    "\n",
    "The sample data used to produce the box plots below was taken from the Marine Institute’s weather buoy network. [4]. It is data taken from 6 different buoys located off the coast of Ireland (M1 – M6). These buoys record weather and ocean data including air temperature, atmospheric humidity, sea surface temperature, sea temperature and salinity on moored chain, wave statistics and wind speed/direction. The variable selected for these box plots is the wind speed measured at each buoy."
   ]
  },
  {
   "cell_type": "markdown",
   "metadata": {},
   "source": [
    "## Sample Box Plots"
   ]
  },
  {
   "cell_type": "code",
   "execution_count": null,
   "metadata": {},
   "outputs": [],
   "source": [
    "# Import pandas data analysis package.\n",
    "import pandas as pd\n",
    "\n",
    "# Import matplotlib plotting package.\n",
    "import matplotlib.pyplot as plt\n",
    "\n",
    "# Make matplotlib show interactive plots in the notebook.\n",
    "%matplotlib inline\n",
    "\n",
    "# Reads data from csv file as dataframe using pandas, using the first row as a header. Skips the second row which contains units.\n",
    "df = pd.read_csv(\"Data/Weather Buoy Network.csv\", header=[0],skiprows=[1])\n",
    "\n",
    "# Creates dataframes containing only windspeed for each buoy. \n",
    "# Drops any rows containing \"NaN\".\n",
    "# Takes only the first 1000 elements of each dataframe as a sample so that the resulting box plot will be clear and easy to read. Dataframe is arranged chronologically so the first 100 elements will be the earliest existing 1000 wind speed readings.\n",
    "M1 = df.loc[df.loc[:,'station_id'] == 'M1'].loc[:,'WindSpeed'].dropna().iloc[0:1000]\n",
    "M2 = df.loc[df.loc[:,'station_id'] == 'M2'].loc[:,'WindSpeed'].dropna().iloc[0:1000]\n",
    "M3 = df.loc[df.loc[:,'station_id'] == 'M3'].loc[:,'WindSpeed'].dropna().iloc[0:1000]\n",
    "M4 = df.loc[df.loc[:,'station_id'] == 'M4'].loc[:,'WindSpeed'].dropna().iloc[0:1000]\n",
    "M5 = df.loc[df.loc[:,'station_id'] == 'M5'].loc[:,'WindSpeed'].dropna().iloc[0:1000]\n",
    "M6 = df.loc[df.loc[:,'station_id'] == 'M6'].loc[:,'WindSpeed'].dropna().iloc[0:1000]\n",
    "\n",
    "# Makes a new figure\n",
    "fig = plt.figure()\n",
    "# Creates a 1 x 1 grid in the first subplot\n",
    "ax = fig.add_subplot(111)\n",
    "# Creates a boxplot for each of the buoys and labels them accordingly.\n",
    "ax.boxplot([M1,M2,M3,M4,M5,M6], labels=['M1', 'M2','M3','M4', 'M5','M6'])"
   ]
  },
  {
   "cell_type": "markdown",
   "metadata": {},
   "source": [
    "## Alternatives to Box Plots"
   ]
  },
  {
   "cell_type": "markdown",
   "metadata": {},
   "source": [
    "### Histogram\n",
    "\n",
    "A histogram appears similar to a bar chart. The x variable is divided into “bins”, and the y variable represents the number of data points falling in each bin, or frequency.\n",
    "\n",
    "\n",
    "#### Pros\n",
    "\n",
    "- A histogram is useful in conveying variance in a dataset. It can show if there are one or more areas with a particularly high or low concentration of data points, i.e. if it is multimodal. A box plot does not display this information.\n",
    "\n",
    "- Histograms are also effective in displaying data with little variance, or uniform data. A box plot does not show this directly.\n",
    "\n",
    "#### Cons\n",
    "\n",
    "\n",
    "- A box plot is better for displaying data with moderate variation in frequencies. The bin width of the histogram may cause the plot and therefore the dataset to appear slightly skewed. A box plot will accurately show the spread of the data.\n",
    "\n",
    "- A box plot gives exact descriptive statistics that cannot be immediately read from a histogram, such as the median and quartile values.\n",
    "\n",
    "- A box plot easily allows us to display several datasets side by side for purposes of comparison. This is not easily done with histograms.\n",
    "\n",
    "- A box plot can also be used to show the same dataset at different times side by side, which cannot be done with a histogram."
   ]
  },
  {
   "cell_type": "code",
   "execution_count": null,
   "metadata": {},
   "outputs": [],
   "source": [
    "# Plots the data as a histogram\n",
    "M1.plot(kind='hist')\n"
   ]
  },
  {
   "cell_type": "markdown",
   "metadata": {},
   "source": [
    "## References\n",
    "- [1] Wikipedia. Box Plot.  \n",
    "  https://en.wikipedia.org/wiki/Box_plot\n",
    "- [2] The Connexions Project. Descriptive Statistics: Box Plot.  \n",
    "  https://resources.saylor.org/wwwresources/archived/site/wp-content/uploads/2011/06/MA121-1.2.3.pdf\n",
    "- [3] Hadley Wickham and Lisa Stryjewski. 40 Years of Box Plots.  \n",
    "  http://vita.had.co.nz/papers/boxplots.pdf"
   ]
  }
 ],
 "metadata": {
  "kernelspec": {
   "display_name": "Python 3",
   "language": "python",
   "name": "python3"
  },
  "language_info": {
   "codemirror_mode": {
    "name": "ipython",
    "version": 3
   },
   "file_extension": ".py",
   "mimetype": "text/x-python",
   "name": "python",
   "nbconvert_exporter": "python",
   "pygments_lexer": "ipython3",
   "version": "3.7.0"
  }
 },
 "nbformat": 4,
 "nbformat_minor": 2
}
