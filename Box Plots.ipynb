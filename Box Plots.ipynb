{
 "cells": [
  {
   "cell_type": "markdown",
   "metadata": {},
   "source": [
    "# Box Plots"
   ]
  },
  {
   "cell_type": "markdown",
   "metadata": {},
   "source": [
    "- In statistics, a box plot is a type of graph that gives an indication of the concentration of a dataset in a small amount of space. \n",
    "- It shows the median, quartiles and extreme values of the data.\n",
    "- The median, first quartile and third quartile are shown as a box, hence the name box plot.The first and third quartiles are known as hinges. The middle 50% of the data fall within this box. \n",
    "- Lines extend vertically from the bottom and top of this box to indicate the variability or extreme values of the dataset, depending on the type of box plot. For this reason they are sometimes known as box and whisker plots. The end of these whiskers are sometimes referred to as fences.\n",
    "- Outliers may be marked as dots beyond these lines.\n",
    "- Box plots can tell the viewer about the dispersion (spread), skewness (asymetry of the distribution about its mean) and outliers of the dataset. \n",
    "- They are useful for comparing distributions between different datasets. [1]"
   ]
  },
  {
   "cell_type": "markdown",
   "metadata": {},
   "source": [
    "## Types of Box Plots\n",
    "\n",
    "The whiskers of the box plot can be used to display different information as required. Some variations of whiskers lengths are:\n",
    "- The maximum and minimum values of the dataset. \n",
    "- The lowest data point still within 1.5 interquartile range of the lower quartile and the highest value still within 1.5 interquartile range of the higher quartile, known as the Tukey box plot.\n",
    "- One standard deviation above and below the mean of the data.\n",
    "- The 9th and 91st percentiles.\n",
    "- The 2nd and 98th percentiles.\n",
    "\n",
    "The length of the box of the box plot always represents the same thing but the box can be varied in other ways:\n",
    "- The width of the box may be varied proportional to the size of the dataset. This is called a variable width box plot.\n",
    "- A notch may be applied to the median of the box. This is known as a notched box plot. [1]\n",
    "<img src=\"Images/Variable Width and Notched.svg\" />\n",
    "<center>Variable Width and Notched Plots [1]</center>\n"
   ]
  },
  {
   "cell_type": "markdown",
   "metadata": {},
   "source": [
    "## Terminology\n",
    "\n",
    "### Median\n",
    "- The median is a way of measuring the centre of the data.\n",
    "- If all of the elements within the dataset were arranged from smallest to largest, the median would be either the middle value, or halfway between the two middle values (their average).\n",
    "- The median does not necessarily have to be an element of the dataset.\n",
    "- Half of the values of the dataset will be below the median and half will be above.\n",
    "\n",
    "### Quartile\n",
    "- Quartiles are numbers that separate the data into quarters.\n",
    "- Quartiles are calculated similarly to the median.\n",
    "- The first quartile is the value that a quarter of the dataset is below. It is the middle of the lower half of the data.\n",
    "- The third quartile is the value that a quarter of the dataset is above. It is the middle of the upper half of the data.\n",
    "- The median is the second quartile. [2]\n",
    "\n",
    "### Percentile\n",
    "- A percentile is similar to a quartile but for any percentage value.\n",
    "- E.g. The 10th percentile is the value that 10% of the dataset is below.\n",
    "\n",
    "### Quantile\n",
    "- A quantile is a cut point which divides a dataset into subgroups of a specified proportion.\n",
    "- Medians, quartiles and percentiles are all quantiles.\n",
    "\n",
    "### Interquartile Range\n",
    "- The interquartile range is the difference between the first quartile and the third quartile.\n",
    "- This is the height of the box in a box plot.\n",
    "\n",
    "### Standard Deviation\n",
    "- The standard deviation of a dataset is the average absolute difference between its data points and its mean.\n"
   ]
  },
  {
   "cell_type": "markdown",
   "metadata": {},
   "source": [
    "## History of Box Plots\n",
    "- The first form of box plot, a range-bar, was described by Mary Eleanor Spear in 1952.\n",
    "- John Tukey introduced the box and whisker plot as a tool for exploratory data analysis in 1970. Tukey selected what he thought to be the most appropriate and useful summary statistics and intervals to display.\n",
    "<img src=\"Images/John Tukey.jpg\" />\n",
    "<center>John Tuckey [1]</center>\n",
    "- Tukey designed his box plot to show whiskers of length 1.5 times the interquartile range from the median. Values beyond this were shown as individual dots.\n",
    "- Since then, a number of people have produced different variations of the box plot, including different whisker lengths as described in the box plot types section above.\n",
    "- Some variations for whisker lengths include using maximum and minimum values, fixed quantiles, values other than 1.5 times the interquartile range, semi-interquartile ranges (e.g. median - 1st quartile) for asymetrical whiskers, or standard deviation.\n",
    "- At the time when box plots were still commonly printed, some people used a mid-gap plot to save ink. As shown below the box is removed and the median is shown with a dot.\n",
    "- Different colours were also sometimes used to allow the viewer to visualise the data more easily.\n",
    "<img src=\"Images/Mid Gap Plot.png\" />\n",
    "<center>Mid Gap Plot and Colourful Plot [3]</center>\n",
    "- Variable width and notched box plots were introduced to show the comparative size of the dataset and to allow the viewer to evaluate confidence intervals for the medians of each boxplot, respectively.\n",
    "- It has been found that there can be significant bias when viewing the lengths of whiskers or boxes. Whisker length is overestimated when whiskers are shorter than boxes and vice versa. Similarly box length is overestimated when boxes are shorter than whiskers and vice-versa."
   ]
  },
  {
   "cell_type": "code",
   "execution_count": null,
   "metadata": {},
   "outputs": [],
   "source": [
    "# Plots"
   ]
  },
  {
   "cell_type": "markdown",
   "metadata": {},
   "source": [
    "## Uses of Box Plots\n",
    "- \n",
    "- \n",
    "- "
   ]
  },
  {
   "cell_type": "code",
   "execution_count": 1,
   "metadata": {},
   "outputs": [],
   "source": [
    "# Plots"
   ]
  },
  {
   "cell_type": "markdown",
   "metadata": {},
   "source": [
    "## Sample Data Set"
   ]
  },
  {
   "cell_type": "markdown",
   "metadata": {},
   "source": [
    "## Sample Box Plots"
   ]
  },
  {
   "cell_type": "code",
   "execution_count": 10,
   "metadata": {},
   "outputs": [
    {
     "data": {
      "text/plain": [
       "{'whiskers': [<matplotlib.lines.Line2D at 0x1c6e0973cf8>,\n",
       "  <matplotlib.lines.Line2D at 0x1c6e0973dd8>,\n",
       "  <matplotlib.lines.Line2D at 0x1c6e0b74a90>,\n",
       "  <matplotlib.lines.Line2D at 0x1c6e0b74eb8>,\n",
       "  <matplotlib.lines.Line2D at 0x1c6e0b63828>,\n",
       "  <matplotlib.lines.Line2D at 0x1c6e0b63c50>,\n",
       "  <matplotlib.lines.Line2D at 0x1c6e0b505c0>,\n",
       "  <matplotlib.lines.Line2D at 0x1c6e0b509e8>,\n",
       "  <matplotlib.lines.Line2D at 0x1c6e0b48fd0>,\n",
       "  <matplotlib.lines.Line2D at 0x1c6e0b42780>,\n",
       "  <matplotlib.lines.Line2D at 0x1c6e0bb6d68>,\n",
       "  <matplotlib.lines.Line2D at 0x1c6e0bb0518>],\n",
       " 'caps': [<matplotlib.lines.Line2D at 0x1c6e0b7d588>,\n",
       "  <matplotlib.lines.Line2D at 0x1c6e0b7d9b0>,\n",
       "  <matplotlib.lines.Line2D at 0x1c6e0b74f98>,\n",
       "  <matplotlib.lines.Line2D at 0x1c6e0b6d748>,\n",
       "  <matplotlib.lines.Line2D at 0x1c6e0b63d30>,\n",
       "  <matplotlib.lines.Line2D at 0x1c6e0b5b4e0>,\n",
       "  <matplotlib.lines.Line2D at 0x1c6e0b50e10>,\n",
       "  <matplotlib.lines.Line2D at 0x1c6e0b50ef0>,\n",
       "  <matplotlib.lines.Line2D at 0x1c6e0b42ba8>,\n",
       "  <matplotlib.lines.Line2D at 0x1c6e0b42fd0>,\n",
       "  <matplotlib.lines.Line2D at 0x1c6e0bb0940>,\n",
       "  <matplotlib.lines.Line2D at 0x1c6e0bb0d68>],\n",
       " 'boxes': [<matplotlib.lines.Line2D at 0x1c6e05e89e8>,\n",
       "  <matplotlib.lines.Line2D at 0x1c6e0b74668>,\n",
       "  <matplotlib.lines.Line2D at 0x1c6e0b63400>,\n",
       "  <matplotlib.lines.Line2D at 0x1c6e0b5bdd8>,\n",
       "  <matplotlib.lines.Line2D at 0x1c6e0b48ef0>,\n",
       "  <matplotlib.lines.Line2D at 0x1c6e0bb6c88>],\n",
       " 'medians': [<matplotlib.lines.Line2D at 0x1c6e0b7ddd8>,\n",
       "  <matplotlib.lines.Line2D at 0x1c6e0b6db70>,\n",
       "  <matplotlib.lines.Line2D at 0x1c6e0b5b908>,\n",
       "  <matplotlib.lines.Line2D at 0x1c6e0b486a0>,\n",
       "  <matplotlib.lines.Line2D at 0x1c6e0bb6438>,\n",
       "  <matplotlib.lines.Line2D at 0x1c6e0bb0e48>],\n",
       " 'fliers': [<matplotlib.lines.Line2D at 0x1c6e0b7deb8>,\n",
       "  <matplotlib.lines.Line2D at 0x1c6e0b6df98>,\n",
       "  <matplotlib.lines.Line2D at 0x1c6e0b5bd30>,\n",
       "  <matplotlib.lines.Line2D at 0x1c6e0b48ac8>,\n",
       "  <matplotlib.lines.Line2D at 0x1c6e0bb6860>,\n",
       "  <matplotlib.lines.Line2D at 0x1c6e0ba95f8>],\n",
       " 'means': []}"
      ]
     },
     "execution_count": 10,
     "metadata": {},
     "output_type": "execute_result"
    },
    {
     "data": {
      "image/png": "[encoded data removed]",
      "text/plain": [
       "<Figure size 432x288 with 1 Axes>"
      ]
     },
     "metadata": {
      "needs_background": "light"
     },
     "output_type": "display_data"
    }
   ],
   "source": [
    "# Import pandas data analysis package.\n",
    "import pandas as pd\n",
    "\n",
    "# Import matplotlib plotting package.\n",
    "import matplotlib.pyplot as plt\n",
    "\n",
    "# Make matplotlib show interactive plots in the notebook.\n",
    "%matplotlib inline\n",
    "\n",
    "# Reads data from csv file as dataframe using pandas, using the first row as a header. Skips the second row which contains units.\n",
    "df = pd.read_csv(\"Data/Weather Buoy Network.csv\", header=[0],skiprows=[1])\n",
    "\n",
    "# Creates dataframes containing only windspeed for each buoy. \n",
    "# Drops any rows containing \"NaN\".\n",
    "# Takes only the first 1000 elements of each dataframe as a sample so that the resulting box plot will be clear and easy to read. Dataframe is arranged chronologically so the first 100 elements will be the earliest existing 1000 wind speed readings.\n",
    "M1 = df.loc[df.loc[:,'station_id'] == 'M1'].loc[:,'WindSpeed'].dropna().iloc[0:1000]\n",
    "M2 = df.loc[df.loc[:,'station_id'] == 'M2'].loc[:,'WindSpeed'].dropna().iloc[0:1000]\n",
    "M3 = df.loc[df.loc[:,'station_id'] == 'M3'].loc[:,'WindSpeed'].dropna().iloc[0:1000]\n",
    "M4 = df.loc[df.loc[:,'station_id'] == 'M4'].loc[:,'WindSpeed'].dropna().iloc[0:1000]\n",
    "M5 = df.loc[df.loc[:,'station_id'] == 'M5'].loc[:,'WindSpeed'].dropna().iloc[0:1000]\n",
    "M6 = df.loc[df.loc[:,'station_id'] == 'M6'].loc[:,'WindSpeed'].dropna().iloc[0:1000]\n",
    "\n",
    "# Makes a new figure\n",
    "fig = plt.figure()\n",
    "# Creates a 1 x 1 grid in the first subplot\n",
    "ax = fig.add_subplot(111)\n",
    "# Creates a boxplot for each of the buoys and labels them accordingly.\n",
    "ax.boxplot([M1,M2,M3,M4,M5,M6], labels=['M1', 'M2','M3','M4', 'M5','M6'])"
   ]
  },
  {
   "cell_type": "markdown",
   "metadata": {},
   "source": [
    "## Alternatives to Box Plots"
   ]
  },
  {
   "cell_type": "markdown",
   "metadata": {},
   "source": [
    "### Alternative 1\n",
    "- Pros\n",
    "    - \n",
    "    - \n",
    "- Cons\n",
    "    - \n",
    "    - \n",
    "- When you might use this\n",
    "    - \n",
    "    - "
   ]
  },
  {
   "cell_type": "markdown",
   "metadata": {},
   "source": [
    "### Alternative 2\n",
    "- Pros\n",
    "    - \n",
    "    - \n",
    "- Cons\n",
    "    - \n",
    "    - \n",
    "- When you might use this\n",
    "    - \n",
    "    - "
   ]
  },
  {
   "cell_type": "markdown",
   "metadata": {},
   "source": [
    "### Alternative 3\n",
    "- Pros\n",
    "    - \n",
    "    - \n",
    "- Cons\n",
    "    - \n",
    "    - \n",
    "- When you might use this\n",
    "    - \n",
    "    - "
   ]
  },
  {
   "cell_type": "markdown",
   "metadata": {},
   "source": [
    "## References\n",
    "- [1] Wikipedia. Box Plot.  \n",
    "  https://en.wikipedia.org/wiki/Box_plot\n",
    "- [2] The Connexions Project. Descriptive Statistics: Box Plot.  \n",
    "  https://resources.saylor.org/wwwresources/archived/site/wp-content/uploads/2011/06/MA121-1.2.3.pdf\n",
    "- [3] Hadley Wickham and Lisa Stryjewski. 40 Years of Box Plots.  \n",
    "  http://vita.had.co.nz/papers/boxplots.pdf"
   ]
  }
 ],
 "metadata": {
  "kernelspec": {
   "display_name": "Python 3",
   "language": "python",
   "name": "python3"
  },
  "language_info": {
   "codemirror_mode": {
    "name": "ipython",
    "version": 3
   },
   "file_extension": ".py",
   "mimetype": "text/x-python",
   "name": "python",
   "nbconvert_exporter": "python",
   "pygments_lexer": "ipython3",
   "version": "3.7.0"
  }
 },
 "nbformat": 4,
 "nbformat_minor": 2
}
