{
 "cells": [
  {
   "cell_type": "markdown",
   "metadata": {},
   "source": [
    "# Box Plots"
   ]
  },
  {
   "cell_type": "markdown",
   "metadata": {},
   "source": [
    "- In statistics, a box plot is a type of graph that gives an indication of the concentration of a dataset. \n",
    "- It shows the median, quartiles and extreme values of the data.\n",
    "- The median, first quartile and third quartile are shown as a box, hence the name box plot. The middle 50% of the data fall within this box.\n",
    "- Lines extend vertically from the bottom and top of this box to indicate the variability or extreme values of the dataset, depending on the type of box plot. For this reason they are sometimes known as box and whisker plots.\n",
    "- Outliers may be marked as dots beyond these lines.\n",
    "- Box plots can tell the viewer about the dispersion (spread), skewness (asymetry of the distribution about its mean) and outliers of the dataset. [1]"
   ]
  },
  {
   "cell_type": "markdown",
   "metadata": {},
   "source": [
    "## Types of Box Plots\n",
    "\n",
    "The box of a box plot always represents the same thing, as described above. However the whiskers of the box plot can be used to display different information as required.\n",
    "\n",
    "\n",
    "1. The maximum and minimum values of the dataset. \n",
    "2. The lowest data point still within 1.5 interquartile range of the 1st quartile and the highest value still within 1.5 interquartile range of the 3rd quartile, known as the Tukey box plot.\n",
    "3. One standard deviation above and below the mean of the data.\n",
    "4. The 9th and 91st percentiles.\n",
    "5. The 2nd and 98th percentiles."
   ]
  },
  {
   "cell_type": "markdown",
   "metadata": {},
   "source": [
    "## Terminology\n",
    "\n",
    "### Median\n",
    "- The median is a way of measuring the centre of the data.\n",
    "- If all of the elements within the dataset were arranged from smallest to largest, the median would be either the middle value, or halfway between the two middle values (their average).\n",
    "- The median does not necessarily have to be an element of the dataset.\n",
    "- Half of the values of the dataset will be below the median and half will be above.\n",
    "\n",
    "### Quartile\n",
    "- Quartiles are numbers that separate the data into quarters.\n",
    "- Quartiles are calculated similarly to the median.\n",
    "- The first quartile is the value that a quarter of the dataset is below. It is the middle of the lower half of the data.\n",
    "- The third quartile is the value that a quarter of the dataset is above. It is the middle of the upper half of the data.\n",
    "- The median is the second quartile.\n",
    "\n",
    "### Percentile\n",
    "- A percentile is similar to a quartile but for any percentage value.\n",
    "- E.g. The 10th percentile is the value that 10% of the dataset is below.\n",
    "\n",
    "### Interquartile Range\n",
    "- The interquartile range is the difference between the first quartile and the third quartile.\n",
    "- This is the height of the box in a box plot.\n",
    "\n",
    "### Standard Deviation\n",
    "- The standard deviation of a dataset is the average absolute difference between its data points and its mean.\n"
   ]
  },
  {
   "cell_type": "markdown",
   "metadata": {},
   "source": [
    "## History of Box Plots\n",
    "- \n",
    "- \n",
    "- "
   ]
  },
  {
   "cell_type": "code",
   "execution_count": null,
   "metadata": {},
   "outputs": [],
   "source": [
    "# Plots"
   ]
  },
  {
   "cell_type": "markdown",
   "metadata": {},
   "source": [
    "## Uses of Box Plots\n",
    "- \n",
    "- \n",
    "- "
   ]
  },
  {
   "cell_type": "code",
   "execution_count": 1,
   "metadata": {},
   "outputs": [],
   "source": [
    "# Plots"
   ]
  },
  {
   "cell_type": "markdown",
   "metadata": {},
   "source": [
    "## Sample Data Set"
   ]
  },
  {
   "cell_type": "markdown",
   "metadata": {},
   "source": [
    "## Sample Box Plots"
   ]
  },
  {
   "cell_type": "markdown",
   "metadata": {},
   "source": [
    "## Alternatives to Box Plots"
   ]
  },
  {
   "cell_type": "markdown",
   "metadata": {},
   "source": [
    "### Alternative 1\n",
    "- Pros\n",
    "    - \n",
    "    - \n",
    "- Cons\n",
    "    - \n",
    "    - \n",
    "- When you might use this\n",
    "    - \n",
    "    - "
   ]
  },
  {
   "cell_type": "markdown",
   "metadata": {},
   "source": [
    "### Alternative 2\n",
    "- Pros\n",
    "    - \n",
    "    - \n",
    "- Cons\n",
    "    - \n",
    "    - \n",
    "- When you might use this\n",
    "    - \n",
    "    - "
   ]
  },
  {
   "cell_type": "markdown",
   "metadata": {},
   "source": [
    "### Alternative 3\n",
    "- Pros\n",
    "    - \n",
    "    - \n",
    "- Cons\n",
    "    - \n",
    "    - \n",
    "- When you might use this\n",
    "    - \n",
    "    - "
   ]
  },
  {
   "cell_type": "markdown",
   "metadata": {},
   "source": [
    "## References\n",
    "- [1] Wikipedia. Box Plot.  \n",
    "  https://en.wikipedia.org/wiki/Box_plot\n",
    "- [2] The Connexions Project. Descriptive Statistics: Box Plot.  \n",
    "  https://resources.saylor.org/wwwresources/archived/site/wp-content/uploads/2011/06/MA121-1.2.3.pdf\n",
    "- "
   ]
  }
 ],
 "metadata": {
  "kernelspec": {
   "display_name": "Python 3",
   "language": "python",
   "name": "python3"
  },
  "language_info": {
   "codemirror_mode": {
    "name": "ipython",
    "version": 3
   },
   "file_extension": ".py",
   "mimetype": "text/x-python",
   "name": "python",
   "nbconvert_exporter": "python",
   "pygments_lexer": "ipython3",
   "version": "3.7.0"
  }
 },
 "nbformat": 4,
 "nbformat_minor": 2
}
