{
 "cells": [
  {
   "cell_type": "markdown",
   "metadata": {},
   "source": [
    "# Box Plots"
   ]
  },
  {
   "cell_type": "markdown",
   "metadata": {},
   "source": [
    "- In statistics, a box plot is a type of graph that gives an indication of the concentration of a dataset. \n",
    "- It shows the median, quartiles and extreme values of the data.\n",
    "- The median, first quartile and third quartile are shown as a box, hence the name box plot.\n",
    "- Lines extend vertically from the bottom and top of this box to indicate the variability of the dataset. For this reason they are sometimes known as box and whisker plots.\n",
    "- Outliers may be marked as dots beyond these lines.\n",
    "- This type of plot can tell the viewer about the dispersion (spread), skewness (asymetry of the distribution about its mean) and outliers of the dataset. [1]"
   ]
  },
  {
   "cell_type": "markdown",
   "metadata": {},
   "source": [
    "## Types of Box Plots\n",
    "\n",
    "### A\n",
    "- \n",
    "- \n",
    "- \n",
    "\n",
    "### B\n",
    "- \n",
    "- \n",
    "- \n",
    "\n",
    "### C\n",
    "- \n",
    "- \n",
    "- "
   ]
  },
  {
   "cell_type": "markdown",
   "metadata": {},
   "source": [
    "## Terminology\n",
    "\n",
    "### Median\n",
    "- The median is a way of measuring the centre of the data.\n",
    "- If all of the elements within the dataset were arranged from smallest to largest, the median would be either the middle value, or halfway between the two middle values (their average).\n",
    "- The median does not necessarily have to be an element of the dataset.\n",
    "- Half of the values of the dataset will be below the median and half will be above.\n",
    "\n",
    "### Quartile\n",
    "- Quartiles are numbers that separate the data into quarters.\n",
    "- Quartiles are calculated similarly to the median.\n",
    "- The first quartile is the value that a quarter of the dataset is below.\n",
    "- The third quartile is the value that a quarter of the dataset is above.\n",
    "- The median is the second quartile.\n",
    "\n",
    "### Percentile\n",
    "- \n",
    "- "
   ]
  },
  {
   "cell_type": "markdown",
   "metadata": {},
   "source": [
    "## History of Box Plots\n",
    "- \n",
    "- \n",
    "- "
   ]
  },
  {
   "cell_type": "code",
   "execution_count": null,
   "metadata": {},
   "outputs": [],
   "source": [
    "# Plots"
   ]
  },
  {
   "cell_type": "markdown",
   "metadata": {},
   "source": [
    "## Uses of Box Plots\n",
    "- \n",
    "- \n",
    "- "
   ]
  },
  {
   "cell_type": "code",
   "execution_count": 1,
   "metadata": {},
   "outputs": [],
   "source": [
    "# Plots"
   ]
  },
  {
   "cell_type": "markdown",
   "metadata": {},
   "source": [
    "## Sample Data Set"
   ]
  },
  {
   "cell_type": "markdown",
   "metadata": {},
   "source": [
    "## Sample Box Plots"
   ]
  },
  {
   "cell_type": "markdown",
   "metadata": {},
   "source": [
    "## Alternatives to Box Plots"
   ]
  },
  {
   "cell_type": "markdown",
   "metadata": {},
   "source": [
    "### Alternative 1\n",
    "- Pros\n",
    "    - \n",
    "    - \n",
    "- Cons\n",
    "    - \n",
    "    - \n",
    "- When you might use this\n",
    "    - \n",
    "    - "
   ]
  },
  {
   "cell_type": "markdown",
   "metadata": {},
   "source": [
    "### Alternative 2\n",
    "- Pros\n",
    "    - \n",
    "    - \n",
    "- Cons\n",
    "    - \n",
    "    - \n",
    "- When you might use this\n",
    "    - \n",
    "    - "
   ]
  },
  {
   "cell_type": "markdown",
   "metadata": {},
   "source": [
    "### Alternative 3\n",
    "- Pros\n",
    "    - \n",
    "    - \n",
    "- Cons\n",
    "    - \n",
    "    - \n",
    "- When you might use this\n",
    "    - \n",
    "    - "
   ]
  },
  {
   "cell_type": "markdown",
   "metadata": {},
   "source": [
    "## References\n",
    "- [1] Wikipedia. Box Plot.  \n",
    "  https://en.wikipedia.org/wiki/Box_plot\n",
    "- [2] The Connexions Project. Descriptive Statistics: Box Plot.  \n",
    "  https://resources.saylor.org/wwwresources/archived/site/wp-content/uploads/2011/06/MA121-1.2.3.pdf\n",
    "- "
   ]
  }
 ],
 "metadata": {
  "kernelspec": {
   "display_name": "Python 3",
   "language": "python",
   "name": "python3"
  },
  "language_info": {
   "codemirror_mode": {
    "name": "ipython",
    "version": 3
   },
   "file_extension": ".py",
   "mimetype": "text/x-python",
   "name": "python",
   "nbconvert_exporter": "python",
   "pygments_lexer": "ipython3",
   "version": "3.7.0"
  }
 },
 "nbformat": 4,
 "nbformat_minor": 2
}
